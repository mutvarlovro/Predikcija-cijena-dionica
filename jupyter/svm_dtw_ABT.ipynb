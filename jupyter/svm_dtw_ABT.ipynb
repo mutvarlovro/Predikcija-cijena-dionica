{
 "cells": [
  {
   "cell_type": "code",
   "execution_count": 1,
   "metadata": {},
   "outputs": [],
   "source": [
    "import matplotlib.pyplot as plt\n",
    "import numpy as np\n",
    "import pandas as pd\n",
    "import time\n",
    "import os\n",
    "from functools import partial\n",
    "from multiprocessing import Pool\n",
    "\n",
    "from fastdtw import fastdtw, dtw\n",
    "from sklearn import svm\n",
    "from sklearn.metrics import roc_auc_score, roc_curve, accuracy_score"
   ]
  },
  {
   "cell_type": "code",
   "execution_count": 2,
   "metadata": {},
   "outputs": [
    {
     "data": {
      "text/plain": [
       "(969, 368)"
      ]
     },
     "execution_count": 2,
     "metadata": {},
     "output_type": "execute_result"
    }
   ],
   "source": [
    "reduced = pd.read_csv(\"reduced.csv\", index_col=\"date\")\n",
    "d = reduced.apply(np.log).diff()[1:]\n",
    "data = []\n",
    "for podatak in d[\"ABT\"]:\n",
    "    data.append(podatak)\n",
    "d.shape"
   ]
  },
  {
   "cell_type": "code",
   "execution_count": 3,
   "metadata": {},
   "outputs": [
    {
     "name": "stdout",
     "output_type": "stream",
     "text": [
      "20\n",
      "[[-0.00973507 -0.0136801   0.0093228  ... -0.0067644  -0.01366764\n",
      "   0.00429124]\n",
      " [-0.0136801   0.0093228   0.02346702 ... -0.01366764  0.00429124\n",
      "  -0.0048648 ]\n",
      " [ 0.0093228   0.02346702 -0.00053333 ...  0.00429124 -0.0048648\n",
      "  -0.01765348]\n",
      " ...\n",
      " [-0.00954247  0.00521627  0.00367846 ... -0.01732639  0.00210349\n",
      "  -0.00886456]\n",
      " [ 0.00521627  0.00367846 -0.00237864 ...  0.00210349 -0.00886456\n",
      "  -0.0160277 ]\n",
      " [ 0.00367846 -0.00237864  0.00905179 ... -0.00886456 -0.0160277\n",
      "   0.00579961]]\n",
      "[0. 0. 1. 0. 1. 1. 0. 0. 1. 0. 1. 0. 1. 0. 0. 1. 1. 0. 1. 1. 0. 1. 1. 0.\n",
      " 1. 1. 0. 1. 0. 1. 0. 1. 0. 1. 0. 0. 0. 1. 0. 0. 1. 0. 1. 0. 0. 0. 1. 0.\n",
      " 0. 1. 1. 0. 0. 0. 0. 0. 0. 1. 1. 1. 0. 0. 0. 1. 0. 0. 1. 0. 1. 1. 0. 1.\n",
      " 0. 1. 0. 1. 0. 1. 1. 0. 0. 1. 1. 0. 1. 0. 0. 1. 0. 1. 0. 0. 1. 1. 0. 0.\n",
      " 0. 1. 1. 0. 0. 1. 1. 0. 0. 1. 0. 0. 1. 1. 0. 1. 0. 0. 1. 1. 0. 1. 0. 1.\n",
      " 0. 1. 0. 1. 0. 1. 0. 0. 1. 0. 0. 0. 1. 0. 1. 1. 0. 0. 0. 1. 1. 1. 0. 0.\n",
      " 1. 0. 1. 0. 1. 0. 0. 1. 1. 1. 0. 1. 0. 1. 0. 0. 1. 0. 1. 0. 0. 1. 0. 0.\n",
      " 1. 0. 0. 1. 0. 1. 0. 1. 1. 0. 0. 1. 1. 0. 1. 0. 0. 0. 1. 0. 0. 1. 0. 0.\n",
      " 1. 0. 1. 0. 0. 1. 0. 1. 0. 1. 0. 1. 1. 1. 0. 0. 1. 0. 0. 1. 0. 1. 1. 1.\n",
      " 1. 0. 0. 1. 0. 1. 0. 1. 0. 0. 1. 0. 1. 1. 0. 0. 1. 0. 1. 1. 0. 1. 0. 1.\n",
      " 0. 1. 0. 1. 0. 1. 1. 0. 1. 0. 0. 1. 0. 1. 0. 1. 0. 0. 0. 1. 0. 1. 0. 1.\n",
      " 0. 1. 0. 0. 1. 1. 1. 0. 0. 0. 1. 0. 0. 0. 1. 0. 1. 0. 1. 0. 1. 0. 0. 1.\n",
      " 0. 0. 1. 0. 1. 0. 1. 0. 1. 0. 1. 0. 1. 0. 1. 0. 0. 0. 1. 1. 0. 0. 1. 1.\n",
      " 1. 0. 0. 1. 0. 1. 0. 1. 0. 1. 0. 1. 1. 1. 0. 1. 1. 0. 0. 0. 1. 0. 0. 1.\n",
      " 0. 0. 1. 0. 0. 1. 0. 1. 0. 0. 0. 1. 0. 1. 0. 1. 0. 0. 1. 0. 1. 1. 0. 1.\n",
      " 1. 1. 0. 1. 1. 0. 0. 1. 0. 1. 0. 1. 0. 1. 0. 0. 1. 0. 1. 1. 1. 0. 1. 1.\n",
      " 1. 0. 1. 0. 1. 0. 1. 0. 1. 0. 1. 1. 0. 1. 1. 1. 0. 1. 1. 0. 1. 0. 0. 1.\n",
      " 0. 0. 0. 1. 0. 1. 1. 1. 0. 0. 1. 0. 0. 0. 0. 1. 0. 1. 1. 1. 0. 0. 0. 1.\n",
      " 0. 0. 1. 0. 0. 0. 1. 0. 0. 1. 0. 1. 0. 0. 0. 0. 1. 0. 1. 0. 1. 1. 0. 0.\n",
      " 1. 1. 0. 0. 0. 1. 0. 0.]\n"
     ]
    }
   ],
   "source": [
    "L = len(data)\n",
    "l = 20\n",
    "s = 1\n",
    "\n",
    "X = np.stack([data[i:i + l] for i in range(L // 2 - l - s)])\n",
    "Y = np.stack([data[i + l + s - 1] > data[i + l - 1] for i in range(L // 2 - l - s)]).astype(np.float32)\n",
    "##ako je sljedeći element veći od zadnjeg clana niza onda dobiva 1 inace 0\n",
    "\n",
    "X_test = np.stack([data[i:i + l] for i in range(L // 2, L - l - s)])\n",
    "Y_test = np.stack([data[i + l + s - 1] > data[i + l - 1] for i in range(L // 2, L - l - s)]).astype(np.float32)\n",
    "print(len(X[0]))\n",
    "print(X)\n",
    "print(Y_test)"
   ]
  },
  {
   "cell_type": "code",
   "execution_count": 4,
   "metadata": {},
   "outputs": [
    {
     "data": {
      "text/plain": [
       "(463, 464, 0.49892008, 0.46120688)"
      ]
     },
     "execution_count": 4,
     "metadata": {},
     "output_type": "execute_result"
    }
   ],
   "source": [
    "len(X), len(X_test), Y.mean(), Y_test.mean()"
   ]
  },
  {
   "cell_type": "code",
   "execution_count": 5,
   "metadata": {},
   "outputs": [],
   "source": [
    "n = len(X)\n",
    "m = len(X_test)\n",
    "kernel_train = np.empty((n, n))\n",
    "kernel_test = np.empty((m, n))"
   ]
  },
  {
   "cell_type": "code",
   "execution_count": 6,
   "metadata": {},
   "outputs": [
    {
     "name": "stdout",
     "output_type": "stream",
     "text": [
      "5317.030606985092\n"
     ]
    }
   ],
   "source": [
    "t0 = time.time()\n",
    "for i in range(n):\n",
    "    for j in range(i+1):\n",
    "        if i == j:\n",
    "            kernel_train[i][j] = 0.0\n",
    "        else:\n",
    "            kernel_train[i][j] = kernel_train[j][i] = fastdtw(X[i], X[j], radius = 5, dist = 2)[0]\n",
    "\n",
    "\n",
    "for i in range(m):\n",
    "    for j in range(n):           \n",
    "        kernel_test[i][j] = fastdtw(X_test[i], X[j], radius = 5, dist = 2)[0]\n",
    "                      \n",
    "print(time.time()-t0)"
   ]
  },
  {
   "cell_type": "code",
   "execution_count": 8,
   "metadata": {},
   "outputs": [],
   "source": [
    "kernel_train = np.load(\"kernel_train_univariant_ABT.npy\")"
   ]
  },
  {
   "cell_type": "code",
   "execution_count": 10,
   "metadata": {},
   "outputs": [],
   "source": [
    "kernel_test = np.load(\"kernel_test_univariant_ABT.npy\")"
   ]
  },
  {
   "cell_type": "code",
   "execution_count": 11,
   "metadata": {},
   "outputs": [
    {
     "name": "stdout",
     "output_type": "stream",
     "text": [
      "accuracy:  0.7241379310344828\n"
     ]
    }
   ],
   "source": [
    "c = 10\n",
    "gamma = 25\n",
    "kernel = np.exp(-kernel_train/gamma)\n",
    "testkernel = np.exp(-kernel_test/gamma)\n",
    "clf = svm.SVC(kernel='precomputed', C=c)\n",
    "clf.fit(kernel, Y)\n",
    "res = clf.predict(testkernel)\n",
    "print('accuracy: ', np.mean(res == Y_test))"
   ]
  },
  {
   "cell_type": "code",
   "execution_count": null,
   "metadata": {},
   "outputs": [],
   "source": []
  }
 ],
 "metadata": {
  "kernelspec": {
   "display_name": "Python 3",
   "language": "python",
   "name": "python3"
  },
  "language_info": {
   "codemirror_mode": {
    "name": "ipython",
    "version": 3
   },
   "file_extension": ".py",
   "mimetype": "text/x-python",
   "name": "python",
   "nbconvert_exporter": "python",
   "pygments_lexer": "ipython3",
   "version": "3.8.2"
  }
 },
 "nbformat": 4,
 "nbformat_minor": 4
}
