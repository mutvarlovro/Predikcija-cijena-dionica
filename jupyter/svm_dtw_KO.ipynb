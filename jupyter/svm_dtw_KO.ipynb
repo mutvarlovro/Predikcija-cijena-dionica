{
 "cells": [
  {
   "cell_type": "code",
   "execution_count": 1,
   "metadata": {},
   "outputs": [],
   "source": [
    "import matplotlib.pyplot as plt\n",
    "import numpy as np\n",
    "import pandas as pd\n",
    "import time\n",
    "import os\n",
    "from functools import partial\n",
    "from multiprocessing import Pool\n",
    "\n",
    "from fastdtw import fastdtw, dtw\n",
    "from sklearn import svm\n",
    "from sklearn.metrics import roc_auc_score, roc_curve, accuracy_score"
   ]
  },
  {
   "cell_type": "code",
   "execution_count": 2,
   "metadata": {},
   "outputs": [
    {
     "data": {
      "text/plain": [
       "(969, 368)"
      ]
     },
     "execution_count": 2,
     "metadata": {},
     "output_type": "execute_result"
    }
   ],
   "source": [
    "reduced = pd.read_csv(\"reduced.csv\", index_col=\"date\")\n",
    "d = reduced.apply(np.log).diff()[1:]\n",
    "data = []\n",
    "for podatak in d[\"KO\"]:\n",
    "    data.append(podatak)\n",
    "d.shape"
   ]
  },
  {
   "cell_type": "code",
   "execution_count": 3,
   "metadata": {},
   "outputs": [
    {
     "name": "stdout",
     "output_type": "stream",
     "text": [
      "20\n",
      "[[ 0.01483671 -0.01876502  0.00343812 ... -0.00173719 -0.00373274\n",
      "   0.00868815]\n",
      " [-0.01876502  0.00343812  0.01508544 ... -0.00373274  0.00868815\n",
      "  -0.0022269 ]\n",
      " [ 0.00343812  0.01508544 -0.0055697  ...  0.00868815 -0.0022269\n",
      "   0.0029681 ]\n",
      " ...\n",
      " [ 0.00320079  0.          0.01197326 ... -0.00146843 -0.00147059\n",
      "  -0.00689149]\n",
      " [ 0.          0.01197326 -0.0038939  ... -0.00147059 -0.00689149\n",
      "   0.00172733]\n",
      " [ 0.01197326 -0.0038939  -0.00293041 ... -0.00689149  0.00172733\n",
      "   0.00859217]]\n",
      "[0. 0. 1. 0. 1. 0. 0. 0. 1. 0. 1. 0. 1. 0. 0. 1. 1. 0. 1. 1. 0. 0. 1. 0.\n",
      " 1. 1. 0. 1. 0. 1. 0. 1. 0. 0. 1. 0. 1. 0. 1. 0. 1. 0. 0. 0. 0. 1. 1. 0.\n",
      " 0. 1. 1. 0. 0. 0. 1. 0. 0. 1. 1. 0. 0. 0. 0. 1. 1. 0. 1. 0. 1. 0. 0. 1.\n",
      " 1. 0. 0. 1. 0. 1. 1. 1. 0. 1. 1. 0. 1. 1. 0. 1. 0. 0. 0. 0. 1. 1. 0. 0.\n",
      " 1. 0. 1. 0. 1. 1. 1. 0. 0. 1. 1. 0. 1. 0. 0. 1. 1. 0. 1. 1. 0. 1. 1. 0.\n",
      " 1. 0. 0. 1. 0. 1. 0. 0. 1. 0. 0. 0. 1. 0. 1. 1. 1. 0. 0. 1. 1. 0. 0. 1.\n",
      " 1. 0. 0. 1. 1. 0. 0. 1. 1. 1. 0. 1. 0. 1. 0. 1. 1. 0. 0. 1. 1. 0. 0. 0.\n",
      " 1. 0. 1. 1. 1. 0. 1. 1. 0. 0. 0. 1. 1. 0. 1. 1. 0. 1. 1. 0. 1. 0. 0. 1.\n",
      " 1. 0. 0. 0. 0. 0. 1. 0. 1. 0. 1. 1. 1. 1. 0. 0. 1. 0. 0. 1. 0. 1. 0. 1.\n",
      " 0. 1. 1. 0. 1. 0. 1. 1. 0. 0. 1. 0. 1. 1. 0. 1. 0. 1. 0. 1. 0. 1. 0. 1.\n",
      " 0. 1. 1. 0. 1. 1. 0. 1. 0. 0. 1. 0. 1. 1. 0. 1. 0. 1. 0. 1. 1. 1. 0. 1.\n",
      " 0. 0. 1. 0. 1. 1. 0. 1. 0. 1. 0. 0. 1. 0. 0. 1. 0. 0. 1. 0. 0. 1. 1. 0.\n",
      " 0. 0. 1. 0. 0. 1. 1. 0. 1. 0. 1. 1. 0. 1. 0. 0. 1. 0. 0. 0. 1. 0. 0. 0.\n",
      " 1. 0. 1. 0. 1. 0. 0. 1. 0. 1. 0. 1. 1. 0. 1. 1. 0. 1. 0. 0. 1. 0. 1. 1.\n",
      " 0. 1. 1. 0. 1. 0. 0. 1. 0. 0. 1. 1. 0. 0. 1. 1. 0. 0. 0. 1. 1. 0. 1. 1.\n",
      " 0. 1. 0. 0. 0. 1. 1. 1. 0. 1. 0. 1. 0. 0. 1. 0. 0. 0. 1. 1. 1. 0. 1. 0.\n",
      " 1. 0. 0. 0. 1. 0. 0. 1. 0. 1. 1. 0. 0. 1. 0. 1. 0. 1. 0. 0. 1. 1. 0. 1.\n",
      " 1. 0. 0. 1. 0. 1. 0. 0. 0. 1. 1. 0. 1. 0. 0. 1. 0. 0. 1. 1. 0. 0. 1. 0.\n",
      " 1. 0. 0. 1. 0. 1. 0. 1. 0. 0. 1. 1. 1. 1. 0. 0. 1. 0. 0. 1. 1. 0. 0. 1.\n",
      " 1. 0. 0. 1. 0. 1. 1. 0.]\n"
     ]
    }
   ],
   "source": [
    "L = len(data)\n",
    "l = 20\n",
    "s = 1\n",
    "\n",
    "X = np.stack([data[i:i + l] for i in range(L // 2 - l - s)])\n",
    "Y = np.stack([data[i + l + s - 1] > data[i + l - 1] for i in range(L // 2 - l - s)]).astype(np.float32)\n",
    "##ako je sljedeći element veći od zadnjeg clana niza onda dobiva 1 inace 0\n",
    "\n",
    "X_test = np.stack([data[i:i + l] for i in range(L // 2, L - l - s)])\n",
    "Y_test = np.stack([data[i + l + s - 1] > data[i + l - 1] for i in range(L // 2, L - l - s)]).astype(np.float32)\n",
    "print(len(X[0]))\n",
    "print(X)\n",
    "print(Y_test)"
   ]
  },
  {
   "cell_type": "code",
   "execution_count": 4,
   "metadata": {},
   "outputs": [
    {
     "data": {
      "text/plain": [
       "(463, 464, 0.49676025, 0.4827586)"
      ]
     },
     "execution_count": 4,
     "metadata": {},
     "output_type": "execute_result"
    }
   ],
   "source": [
    "len(X), len(X_test), Y.mean(), Y_test.mean()"
   ]
  },
  {
   "cell_type": "code",
   "execution_count": 5,
   "metadata": {},
   "outputs": [],
   "source": [
    "n = len(X)\n",
    "m = len(X_test)\n",
    "kernel_train = np.empty((n, n))\n",
    "kernel_test = np.empty((m, n))"
   ]
  },
  {
   "cell_type": "code",
   "execution_count": 6,
   "metadata": {},
   "outputs": [
    {
     "name": "stdout",
     "output_type": "stream",
     "text": [
      "4914.994704246521\n"
     ]
    }
   ],
   "source": [
    "t0 = time.time()\n",
    "for i in range(n):\n",
    "    for j in range(i+1):\n",
    "        if i == j:\n",
    "            kernel_train[i][j] = 0.0\n",
    "        else:\n",
    "            kernel_train[i][j] = kernel_train[j][i] = fastdtw(X[i], X[j], radius = 5, dist = 2)[0]\n",
    "\n",
    "\n",
    "for i in range(m):\n",
    "    for j in range(n):           \n",
    "        kernel_test[i][j] = fastdtw(X_test[i], X[j], radius = 5, dist = 2)[0]\n",
    "                      \n",
    "print(time.time()-t0)"
   ]
  },
  {
   "cell_type": "code",
   "execution_count": 7,
   "metadata": {},
   "outputs": [],
   "source": [
    "#np.save(\"kernel_train_univariant_KO.npy\", kernel_train)"
   ]
  },
  {
   "cell_type": "code",
   "execution_count": 8,
   "metadata": {},
   "outputs": [],
   "source": [
    "kernel_train = np.load(\"kernel_train_univariant_KO.npy\")"
   ]
  },
  {
   "cell_type": "code",
   "execution_count": 9,
   "metadata": {},
   "outputs": [],
   "source": [
    "#np.save(\"kernel_test_univariant_KO.npy\", kernel_test)"
   ]
  },
  {
   "cell_type": "code",
   "execution_count": 10,
   "metadata": {},
   "outputs": [],
   "source": [
    "kernel_test = np.load(\"kernel_test_univariant_KO.npy\")"
   ]
  },
  {
   "cell_type": "code",
   "execution_count": 13,
   "metadata": {},
   "outputs": [
    {
     "name": "stdout",
     "output_type": "stream",
     "text": [
      "accuracy train:  0.7645788336933045\n",
      "Area under curve(AUC) train: 0.7639671580518754\n",
      "accuracy test:  0.7629310344827587\n",
      "Area under curve(AUC) test: 0.7604166666666666\n"
     ]
    }
   ],
   "source": [
    "c = 10\n",
    "gamma = 25\n",
    "kernel = np.exp(-kernel_train/gamma)\n",
    "testkernel = np.exp(-kernel_test/gamma)\n",
    "clf = svm.SVC(kernel='precomputed', C=c)\n",
    "clf.fit(kernel, Y)\n",
    "res = clf.predict(kernel)\n",
    "#train set\n",
    "print('accuracy train: ', np.mean(res == Y))\n",
    "print('Area under curve(AUC) train:', roc_auc_score(Y, res))\n",
    "#test set\n",
    "res = clf.predict(testkernel)\n",
    "print('accuracy test: ', np.mean(res == Y_test))\n",
    "print('Area under curve(AUC) test:', roc_auc_score(Y_test, res))"
   ]
  },
  {
   "cell_type": "code",
   "execution_count": null,
   "metadata": {},
   "outputs": [],
   "source": []
  }
 ],
 "metadata": {
  "kernelspec": {
   "display_name": "Python 3",
   "language": "python",
   "name": "python3"
  },
  "language_info": {
   "codemirror_mode": {
    "name": "ipython",
    "version": 3
   },
   "file_extension": ".py",
   "mimetype": "text/x-python",
   "name": "python",
   "nbconvert_exporter": "python",
   "pygments_lexer": "ipython3",
   "version": "3.8.2"
  }
 },
 "nbformat": 4,
 "nbformat_minor": 4
}
