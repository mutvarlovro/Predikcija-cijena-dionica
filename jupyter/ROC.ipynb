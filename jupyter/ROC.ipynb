{
 "cells": [
  {
   "cell_type": "code",
   "execution_count": 1,
   "metadata": {},
   "outputs": [],
   "source": [
    "import matplotlib.pyplot as plt\n",
    "import numpy as np\n",
    "import pandas as pd\n",
    "import time\n",
    "import os\n",
    "from functools import partial\n",
    "from multiprocessing import Pool\n",
    "\n",
    "from fastdtw import fastdtw, dtw\n",
    "from sklearn import svm\n",
    "from sklearn.metrics import roc_auc_score, roc_curve, accuracy_score\n",
    "from sklearn.metrics import confusion_matrix \n",
    "from custom.graphics import plot_context"
   ]
  },
  {
   "cell_type": "markdown",
   "metadata": {},
   "source": [
    "# ABBV"
   ]
  },
  {
   "cell_type": "code",
   "execution_count": 12,
   "metadata": {},
   "outputs": [],
   "source": [
    "reduced = pd.read_csv(\"reduced.csv\", index_col=\"date\")\n",
    "d = reduced.apply(np.log).diff()[1:]\n",
    "data = []\n",
    "for podatak in d[\"ABBV\"]:\n",
    "    data.append(podatak)"
   ]
  },
  {
   "cell_type": "code",
   "execution_count": 13,
   "metadata": {},
   "outputs": [],
   "source": [
    "L = len(data)\n",
    "l = 20\n",
    "s = 1\n",
    "\n",
    "X = np.stack([data[i:i + l] for i in range(L // 2 - l - s)])\n",
    "Y1 = np.stack([data[i + l + s - 1] > data[i + l - 1] for i in range(L // 2 - l - s)]).astype(np.float32)\n",
    "\n",
    "X_test = np.stack([data[i:i + l] for i in range(L // 2, L - l - s)])\n",
    "Y1_test = np.stack([data[i + l + s - 1] > data[i + l - 1] for i in range(L // 2, L - l - s)]).astype(np.float32)"
   ]
  },
  {
   "cell_type": "code",
   "execution_count": 14,
   "metadata": {},
   "outputs": [],
   "source": [
    "kernel_train = np.load(\"kernel_train_univariant_ABBV.npy\")"
   ]
  },
  {
   "cell_type": "code",
   "execution_count": 15,
   "metadata": {},
   "outputs": [],
   "source": [
    "kernel_test = np.load(\"kernel_test_univariant_ABBV.npy\")"
   ]
  },
  {
   "cell_type": "code",
   "execution_count": 16,
   "metadata": {},
   "outputs": [
    {
     "name": "stdout",
     "output_type": "stream",
     "text": [
      "accuracy train:  0.7580993520518359\n",
      "AUC train: 0.7580515748619197\n",
      "accuracy test:  0.7306034482758621\n",
      "AUC test: 0.731268239186602\n"
     ]
    }
   ],
   "source": [
    "c = 10\n",
    "gamma = 25\n",
    "kernel = np.exp(-kernel_train/gamma)\n",
    "testkernel = np.exp(-kernel_test/gamma)\n",
    "clf = svm.SVC(kernel='precomputed', C=c)\n",
    "clf.fit(kernel, Y1)\n",
    "#train\n",
    "res1_train = clf.predict(kernel)\n",
    "print('accuracy train: ', np.mean(res1_train == Y1))\n",
    "print('AUC train:', roc_auc_score(Y1, res1_train))\n",
    "#test\n",
    "res1_test = clf.predict(testkernel) \n",
    "print('accuracy test: ', np.mean(res1_test == Y1_test))\n",
    "print('AUC test:', roc_auc_score(Y1_test, res1_test))"
   ]
  },
  {
   "cell_type": "markdown",
   "metadata": {},
   "source": [
    "# GOOGL"
   ]
  },
  {
   "cell_type": "code",
   "execution_count": 19,
   "metadata": {},
   "outputs": [],
   "source": [
    "reduced = pd.read_csv(\"reduced.csv\", index_col=\"date\")\n",
    "d = reduced.apply(np.log).diff()[1:]\n",
    "data = []\n",
    "for podatak in d[\"GOOGL\"]:\n",
    "    data.append(podatak)"
   ]
  },
  {
   "cell_type": "code",
   "execution_count": 20,
   "metadata": {},
   "outputs": [],
   "source": [
    "L = len(data)\n",
    "l = 20\n",
    "s = 1\n",
    "\n",
    "X = np.stack([data[i:i + l] for i in range(L // 2 - l - s)])\n",
    "Y2 = np.stack([data[i + l + s - 1] > data[i + l - 1] for i in range(L // 2 - l - s)]).astype(np.float32)\n",
    "\n",
    "X_test = np.stack([data[i:i + l] for i in range(L // 2, L - l - s)])\n",
    "Y2_test = np.stack([data[i + l + s - 1] > data[i + l - 1] for i in range(L // 2, L - l - s)]).astype(np.float32)"
   ]
  },
  {
   "cell_type": "code",
   "execution_count": 21,
   "metadata": {},
   "outputs": [],
   "source": [
    "kernel_train = np.load(\"kernel_train_univariant_GOOGL.npy\")"
   ]
  },
  {
   "cell_type": "code",
   "execution_count": 22,
   "metadata": {},
   "outputs": [],
   "source": [
    "kernel_test = np.load(\"kernel_test_univariant_GOOGL.npy\")"
   ]
  },
  {
   "cell_type": "code",
   "execution_count": 24,
   "metadata": {},
   "outputs": [
    {
     "name": "stdout",
     "output_type": "stream",
     "text": [
      "accuracy train:  0.755939524838013\n",
      "AUC train: 0.7553745381256298\n",
      "accuracy test:  0.7262931034482759\n",
      "AUC test: 0.7240462556704098\n"
     ]
    }
   ],
   "source": [
    "c = 10\n",
    "gamma = 25\n",
    "kernel = np.exp(-kernel_train/gamma)\n",
    "testkernel = np.exp(-kernel_test/gamma)\n",
    "clf = svm.SVC(kernel='precomputed', C=c)\n",
    "clf.fit(kernel, Y2)\n",
    "#train\n",
    "res2_train = clf.predict(kernel)\n",
    "print('accuracy train: ', np.mean(res2_train == Y2))\n",
    "print('AUC train:', roc_auc_score(Y2, res2_train))\n",
    "#test\n",
    "res2_test = clf.predict(testkernel) \n",
    "print('accuracy test: ', np.mean(res2_test == Y2_test))\n",
    "print('AUC test:', roc_auc_score(Y2_test, res2_test))"
   ]
  },
  {
   "cell_type": "markdown",
   "metadata": {},
   "source": [
    "# HP"
   ]
  },
  {
   "cell_type": "code",
   "execution_count": 42,
   "metadata": {},
   "outputs": [],
   "source": [
    "reduced = pd.read_csv(\"reduced.csv\", index_col=\"date\")\n",
    "d = reduced.apply(np.log).diff()[1:]\n",
    "data = []\n",
    "for podatak in d[\"HP\"]:\n",
    "    data.append(podatak)"
   ]
  },
  {
   "cell_type": "code",
   "execution_count": 43,
   "metadata": {},
   "outputs": [],
   "source": [
    "L = len(data)\n",
    "l = 20\n",
    "s = 1\n",
    "\n",
    "X = np.stack([data[i:i + l] for i in range(L // 2 - l - s)])\n",
    "Y3 = np.stack([data[i + l + s - 1] > data[i + l - 1] for i in range(L // 2 - l - s)]).astype(np.float32)\n",
    "\n",
    "X_test = np.stack([data[i:i + l] for i in range(L // 2, L - l - s)])\n",
    "Y3_test = np.stack([data[i + l + s - 1] > data[i + l - 1] for i in range(L // 2, L - l - s)]).astype(np.float32)"
   ]
  },
  {
   "cell_type": "code",
   "execution_count": 44,
   "metadata": {},
   "outputs": [],
   "source": [
    "kernel_train = np.load(\"kernel_train_univariant_HP.npy\")"
   ]
  },
  {
   "cell_type": "code",
   "execution_count": 45,
   "metadata": {},
   "outputs": [],
   "source": [
    "kernel_test = np.load(\"kernel_test_univariant_HP.npy\")"
   ]
  },
  {
   "cell_type": "code",
   "execution_count": 46,
   "metadata": {},
   "outputs": [
    {
     "name": "stdout",
     "output_type": "stream",
     "text": [
      "accuracy test:  0.7974137931034483\n",
      "AUC test: 0.7976108516457957\n"
     ]
    }
   ],
   "source": [
    "c = 10\n",
    "gamma = 25\n",
    "kernel = np.exp(-kernel_train/gamma)\n",
    "testkernel = np.exp(-kernel_test/gamma)\n",
    "clf = svm.SVC(kernel='precomputed', C=c)\n",
    "clf.fit(kernel, Y3)\n",
    "#train\n",
    "#res2_train = clf.predict(kernel)\n",
    "#print('accuracy train: ', np.mean(res2_train == Y2))\n",
    "#print('AUC train:', roc_auc_score(Y2, res2_train))\n",
    "#test\n",
    "res3_test = clf.predict(testkernel) \n",
    "print('accuracy test: ', np.mean(res3_test == Y3_test))\n",
    "print('AUC test:', roc_auc_score(Y3_test, res3_test))"
   ]
  },
  {
   "cell_type": "markdown",
   "metadata": {},
   "source": [
    "# KO"
   ]
  },
  {
   "cell_type": "code",
   "execution_count": 34,
   "metadata": {},
   "outputs": [],
   "source": [
    "reduced = pd.read_csv(\"reduced.csv\", index_col=\"date\")\n",
    "d = reduced.apply(np.log).diff()[1:]\n",
    "data = []\n",
    "for podatak in d[\"KO\"]:\n",
    "    data.append(podatak)"
   ]
  },
  {
   "cell_type": "code",
   "execution_count": 35,
   "metadata": {},
   "outputs": [],
   "source": [
    "L = len(data)\n",
    "l = 20\n",
    "s = 1\n",
    "\n",
    "X = np.stack([data[i:i + l] for i in range(L // 2 - l - s)])\n",
    "Y4 = np.stack([data[i + l + s - 1] > data[i + l - 1] for i in range(L // 2 - l - s)]).astype(np.float32)\n",
    "\n",
    "X_test = np.stack([data[i:i + l] for i in range(L // 2, L - l - s)])\n",
    "Y4_test = np.stack([data[i + l + s - 1] > data[i + l - 1] for i in range(L // 2, L - l - s)]).astype(np.float32)"
   ]
  },
  {
   "cell_type": "code",
   "execution_count": 36,
   "metadata": {},
   "outputs": [],
   "source": [
    "kernel_train = np.load(\"kernel_train_univariant_KO.npy\")"
   ]
  },
  {
   "cell_type": "code",
   "execution_count": 37,
   "metadata": {},
   "outputs": [],
   "source": [
    "kernel_test = np.load(\"kernel_test_univariant_KO.npy\")"
   ]
  },
  {
   "cell_type": "code",
   "execution_count": 40,
   "metadata": {},
   "outputs": [
    {
     "name": "stdout",
     "output_type": "stream",
     "text": [
      "accuracy test:  0.7629310344827587\n",
      "AUC test: 0.7604166666666666\n"
     ]
    }
   ],
   "source": [
    "c = 10\n",
    "gamma = 25\n",
    "kernel = np.exp(-kernel_train/gamma)\n",
    "testkernel = np.exp(-kernel_test/gamma)\n",
    "clf = svm.SVC(kernel='precomputed', C=c)\n",
    "clf.fit(kernel, Y4)\n",
    "res4_test = clf.predict(testkernel) \n",
    "print('accuracy test: ', np.mean(res4_test == Y4_test))\n",
    "print('AUC test:', roc_auc_score(Y4_test, res4_test))"
   ]
  },
  {
   "cell_type": "markdown",
   "metadata": {},
   "source": [
    "# NKE"
   ]
  },
  {
   "cell_type": "code",
   "execution_count": 48,
   "metadata": {},
   "outputs": [],
   "source": [
    "reduced = pd.read_csv(\"reduced.csv\", index_col=\"date\")\n",
    "d = reduced.apply(np.log).diff()[1:]\n",
    "data = []\n",
    "for podatak in d[\"NKE\"]:\n",
    "    data.append(podatak)"
   ]
  },
  {
   "cell_type": "code",
   "execution_count": 49,
   "metadata": {},
   "outputs": [],
   "source": [
    "L = len(data)\n",
    "l = 20\n",
    "s = 1\n",
    "\n",
    "X = np.stack([data[i:i + l] for i in range(L // 2 - l - s)])\n",
    "Y5 = np.stack([data[i + l + s - 1] > data[i + l - 1] for i in range(L // 2 - l - s)]).astype(np.float32)\n",
    "\n",
    "X_test = np.stack([data[i:i + l] for i in range(L // 2, L - l - s)])\n",
    "Y5_test = np.stack([data[i + l + s - 1] > data[i + l - 1] for i in range(L // 2, L - l - s)]).astype(np.float32)"
   ]
  },
  {
   "cell_type": "code",
   "execution_count": 50,
   "metadata": {},
   "outputs": [],
   "source": [
    "kernel_train = np.load(\"kernel_train_univariant_NKE.npy\")"
   ]
  },
  {
   "cell_type": "code",
   "execution_count": 51,
   "metadata": {},
   "outputs": [],
   "source": [
    "kernel_test = np.load(\"kernel_test_univariant_NKE.npy\")"
   ]
  },
  {
   "cell_type": "code",
   "execution_count": 52,
   "metadata": {},
   "outputs": [
    {
     "name": "stdout",
     "output_type": "stream",
     "text": [
      "accuracy test:  0.7349137931034483\n",
      "AUC test: 0.7347234611953612\n"
     ]
    }
   ],
   "source": [
    "c = 10\n",
    "gamma = 25\n",
    "kernel = np.exp(-kernel_train/gamma)\n",
    "testkernel = np.exp(-kernel_test/gamma)\n",
    "clf = svm.SVC(kernel='precomputed', C=c)\n",
    "clf.fit(kernel, Y5)\n",
    "res5_test = clf.predict(testkernel) \n",
    "print('accuracy test: ', np.mean(res5_test == Y5_test))\n",
    "print('AUC test:', roc_auc_score(Y5_test, res5_test))"
   ]
  },
  {
   "cell_type": "markdown",
   "metadata": {},
   "source": [
    "# F"
   ]
  },
  {
   "cell_type": "code",
   "execution_count": 55,
   "metadata": {},
   "outputs": [],
   "source": [
    "reduced = pd.read_csv(\"reduced.csv\", index_col=\"date\")\n",
    "d = reduced.apply(np.log).diff()[1:]\n",
    "data = []\n",
    "for podatak in d[\"F\"]:\n",
    "    data.append(podatak)"
   ]
  },
  {
   "cell_type": "code",
   "execution_count": 56,
   "metadata": {},
   "outputs": [],
   "source": [
    "L = len(data)\n",
    "l = 20\n",
    "s = 1\n",
    "\n",
    "X = np.stack([data[i:i + l] for i in range(L // 2 - l - s)])\n",
    "Y6 = np.stack([data[i + l + s - 1] > data[i + l - 1] for i in range(L // 2 - l - s)]).astype(np.float32)\n",
    "\n",
    "X_test = np.stack([data[i:i + l] for i in range(L // 2, L - l - s)])\n",
    "Y6_test = np.stack([data[i + l + s - 1] > data[i + l - 1] for i in range(L // 2, L - l - s)]).astype(np.float32)"
   ]
  },
  {
   "cell_type": "code",
   "execution_count": 57,
   "metadata": {},
   "outputs": [],
   "source": [
    "kernel_train = np.load(\"kernel_train_univariant_F.npy\")"
   ]
  },
  {
   "cell_type": "code",
   "execution_count": 58,
   "metadata": {},
   "outputs": [],
   "source": [
    "kernel_test = np.load(\"kernel_test_univariant_F.npy\")"
   ]
  },
  {
   "cell_type": "code",
   "execution_count": 59,
   "metadata": {},
   "outputs": [
    {
     "name": "stdout",
     "output_type": "stream",
     "text": [
      "accuracy test:  0.7327586206896551\n",
      "AUC test: 0.7327586206896551\n"
     ]
    }
   ],
   "source": [
    "c = 10\n",
    "gamma = 25\n",
    "kernel = np.exp(-kernel_train/gamma)\n",
    "testkernel = np.exp(-kernel_test/gamma)\n",
    "clf = svm.SVC(kernel='precomputed', C=c)\n",
    "clf.fit(kernel, Y6)\n",
    "res6_test = clf.predict(testkernel) \n",
    "print('accuracy test: ', np.mean(res6_test == Y6_test))\n",
    "print('AUC test:', roc_auc_score(Y6_test, res6_test))"
   ]
  },
  {
   "cell_type": "code",
   "execution_count": 60,
   "metadata": {},
   "outputs": [
    {
     "data": {
      "image/png": "[encoded data removed]",
      "text/plain": [
       "<Figure size 576x432 with 1 Axes>"
      ]
     },
     "metadata": {
      "needs_background": "light"
     },
     "output_type": "display_data"
    },
    {
     "name": "stdout",
     "output_type": "stream",
     "text": [
      "AUC ABBV: 0.731268239186602\n",
      "AUC GOOGL: 0.7240462556704098\n",
      "AUC HP: 0.7976108516457957\n",
      "AUC KO: 0.7604166666666666\n",
      "AUC NKE: 0.7347234611953612\n"
     ]
    }
   ],
   "source": [
    "with plot_context(show=True, grid=True, title=\"ROC CURVE\", xlabel=\"FPR\", ylabel=\"TPR\", legend=[\"ABBV\", \"GOOGL\", \"HP\", \"KO\", \"NKE\", \"F\"]):\n",
    "    fpr, tpr, _ = roc_curve(Y1_test, res1_test)\n",
    "    plt.plot(fpr, tpr)\n",
    "    fpr, tpr, _ = roc_curve(Y2_test, res2_test)\n",
    "    plt.plot(fpr, tpr)\n",
    "    fpr, tpr, _ = roc_curve(Y3_test, res3_test)\n",
    "    plt.plot(fpr, tpr)\n",
    "    fpr, tpr, _ = roc_curve(Y4_test, res4_test)\n",
    "    plt.plot(fpr, tpr)\n",
    "    fpr, tpr, _ = roc_curve(Y5_test, res5_test)\n",
    "    plt.plot(fpr, tpr)\n",
    "    fpr, tpr, _ = roc_curve(Y6_test, res6_test)\n",
    "    plt.plot(fpr, tpr)\n",
    "    \n",
    "    plt.plot([0, 1], [0, 1], \"k--\", label=\"_nolegend_\")\n",
    "print('AUC ABBV:', roc_auc_score(Y1_test, res1_test))\n",
    "print('AUC GOOGL:', roc_auc_score(Y2_test, res2_test))\n",
    "print('AUC HP:', roc_auc_score(Y3_test, res3_test))\n",
    "print('AUC KO:', roc_auc_score(Y4_test, res4_test))\n",
    "print('AUC NKE:', roc_auc_score(Y5_test, res5_test))"
   ]
  },
  {
   "cell_type": "code",
   "execution_count": null,
   "metadata": {},
   "outputs": [],
   "source": []
  }
 ],
 "metadata": {
  "kernelspec": {
   "display_name": "Python 3",
   "language": "python",
   "name": "python3"
  },
  "language_info": {
   "codemirror_mode": {
    "name": "ipython",
    "version": 3
   },
   "file_extension": ".py",
   "mimetype": "text/x-python",
   "name": "python",
   "nbconvert_exporter": "python",
   "pygments_lexer": "ipython3",
   "version": "3.8.2"
  }
 },
 "nbformat": 4,
 "nbformat_minor": 4
}
