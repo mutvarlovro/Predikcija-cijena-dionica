{
 "cells": [
  {
   "cell_type": "code",
   "execution_count": 1,
   "metadata": {},
   "outputs": [],
   "source": [
    "import matplotlib.pyplot as plt\n",
    "import numpy as np\n",
    "import pandas as pd\n",
    "import time\n",
    "import os\n",
    "from functools import partial\n",
    "from multiprocessing import Pool\n",
    "\n",
    "from fastdtw import fastdtw, dtw\n",
    "from sklearn import svm\n",
    "from sklearn.metrics import roc_auc_score, roc_curve, accuracy_score"
   ]
  },
  {
   "cell_type": "code",
   "execution_count": 2,
   "metadata": {},
   "outputs": [
    {
     "data": {
      "text/plain": [
       "(969, 368)"
      ]
     },
     "execution_count": 2,
     "metadata": {},
     "output_type": "execute_result"
    }
   ],
   "source": [
    "reduced = pd.read_csv(\"reduced.csv\", index_col=\"date\")\n",
    "d = reduced.apply(np.log).diff()[1:]\n",
    "data = []\n",
    "for podatak in d[\"ABC\"]:\n",
    "    data.append(podatak)\n",
    "d.shape"
   ]
  },
  {
   "cell_type": "code",
   "execution_count": 3,
   "metadata": {},
   "outputs": [
    {
     "name": "stdout",
     "output_type": "stream",
     "text": [
      "20\n",
      "[[ 0.0109497  -0.00678224 -0.00663824 ...  0.00489353  0.00935764\n",
      "  -0.01479637]\n",
      " [-0.00678224 -0.00663824  0.0073941  ...  0.00935764 -0.01479637\n",
      "  -0.0032775 ]\n",
      " [-0.00663824  0.0073941   0.01444001 ... -0.01479637 -0.0032775\n",
      "   0.00473072]\n",
      " ...\n",
      " [-0.01453282  0.00320827  0.00133375 ... -0.01193446 -0.00131539\n",
      "  -0.01342776]\n",
      " [ 0.00320827  0.00133375  0.00124323 ... -0.00131539 -0.01342776\n",
      "   0.01640682]\n",
      " [ 0.00133375  0.00124323  0.00495752 ... -0.01342776  0.01640682\n",
      "   0.00270849]]\n",
      "[0. 1. 0. 1. 1. 1. 0. 1. 1. 0. 1. 0. 1. 0. 0. 1. 1. 0. 1. 1. 0. 1. 0. 0.\n",
      " 1. 0. 1. 0. 0. 1. 0. 1. 0. 1. 0. 1. 1. 1. 0. 0. 1. 0. 1. 1. 0. 1. 1. 0.\n",
      " 1. 0. 1. 1. 0. 1. 0. 1. 0. 1. 1. 0. 0. 0. 1. 1. 0. 0. 1. 0. 1. 1. 0. 1.\n",
      " 0. 0. 0. 0. 0. 1. 0. 0. 0. 1. 1. 0. 1. 0. 0. 1. 1. 0. 1. 0. 0. 1. 0. 0.\n",
      " 0. 1. 1. 1. 1. 1. 0. 0. 1. 1. 0. 0. 1. 0. 1. 1. 0. 0. 1. 1. 1. 0. 0. 1.\n",
      " 0. 1. 1. 0. 0. 1. 0. 1. 1. 0. 1. 0. 1. 0. 1. 0. 1. 1. 0. 1. 0. 1. 0. 1.\n",
      " 1. 0. 0. 0. 1. 0. 0. 1. 0. 1. 0. 1. 0. 1. 0. 1. 1. 0. 0. 0. 0. 1. 0. 0.\n",
      " 1. 0. 1. 0. 1. 0. 0. 1. 0. 1. 0. 1. 1. 0. 1. 1. 0. 0. 1. 0. 1. 0. 1. 0.\n",
      " 1. 0. 1. 0. 0. 1. 0. 1. 0. 1. 1. 0. 1. 0. 1. 0. 1. 1. 0. 1. 0. 0. 1. 1.\n",
      " 0. 1. 0. 0. 0. 1. 0. 1. 0. 1. 0. 0. 1. 1. 1. 0. 0. 1. 1. 0. 0. 0. 0. 1.\n",
      " 0. 1. 0. 0. 0. 1. 0. 0. 1. 1. 0. 1. 0. 1. 0. 1. 0. 1. 0. 0. 1. 0. 0. 1.\n",
      " 0. 1. 0. 0. 1. 1. 1. 1. 0. 0. 1. 0. 1. 0. 1. 0. 1. 0. 1. 0. 1. 0. 1. 0.\n",
      " 1. 0. 0. 1. 0. 1. 0. 0. 1. 0. 1. 0. 1. 0. 1. 0. 0. 1. 0. 1. 1. 0. 0. 1.\n",
      " 1. 0. 1. 0. 1. 0. 0. 0. 0. 1. 0. 1. 1. 0. 0. 0. 1. 0. 0. 0. 1. 0. 0. 1.\n",
      " 0. 1. 0. 1. 0. 1. 0. 1. 0. 0. 1. 1. 0. 1. 0. 1. 1. 0. 1. 0. 1. 0. 1. 0.\n",
      " 1. 1. 0. 1. 0. 0. 1. 0. 1. 1. 0. 1. 1. 1. 0. 1. 0. 1. 0. 1. 0. 0. 0. 1.\n",
      " 1. 0. 1. 0. 1. 1. 1. 0. 0. 0. 1. 0. 0. 1. 0. 1. 0. 0. 1. 0. 0. 0. 1. 0.\n",
      " 1. 0. 1. 0. 1. 0. 1. 0. 1. 1. 1. 0. 0. 1. 0. 0. 1. 0. 0. 0. 1. 1. 0. 1.\n",
      " 0. 1. 0. 1. 0. 1. 1. 0. 1. 0. 1. 1. 0. 1. 1. 0. 1. 0. 1. 0. 0. 1. 1. 1.\n",
      " 1. 0. 1. 0. 0. 0. 1. 1.]\n"
     ]
    }
   ],
   "source": [
    "L = len(data)\n",
    "l = 20\n",
    "s = 1\n",
    "\n",
    "X = np.stack([data[i:i + l] for i in range(L // 2 - l - s)])\n",
    "Y = np.stack([data[i + l + s - 1] > data[i + l - 1] for i in range(L // 2 - l - s)]).astype(np.float32)\n",
    "##ako je sljedeći element veći od zadnjeg clana niza onda dobiva 1 inace 0\n",
    "\n",
    "X_test = np.stack([data[i:i + l] for i in range(L // 2, L - l - s)])\n",
    "Y_test = np.stack([data[i + l + s - 1] > data[i + l - 1] for i in range(L // 2, L - l - s)]).astype(np.float32)\n",
    "print(len(X[0]))\n",
    "print(X)\n",
    "print(Y_test)"
   ]
  },
  {
   "cell_type": "code",
   "execution_count": 4,
   "metadata": {},
   "outputs": [],
   "source": [
    "n = len(X)\n",
    "m = len(X_test)\n",
    "kernel_train = np.empty((n, n))\n",
    "kernel_test = np.empty((m, n))"
   ]
  },
  {
   "cell_type": "code",
   "execution_count": 5,
   "metadata": {},
   "outputs": [
    {
     "name": "stdout",
     "output_type": "stream",
     "text": [
      "5460.157591104507\n"
     ]
    }
   ],
   "source": [
    "t0 = time.time()\n",
    "for i in range(n):\n",
    "    for j in range(i+1):\n",
    "        if i == j:\n",
    "            kernel_train[i][j] = 0.0\n",
    "        else:\n",
    "            kernel_train[i][j] = kernel_train[j][i] = fastdtw(X[i], X[j], radius = 5, dist = 2)[0]\n",
    "\n",
    "\n",
    "for i in range(m):\n",
    "    for j in range(n):           \n",
    "        kernel_test[i][j] = fastdtw(X_test[i], X[j], radius = 5, dist = 2)[0]\n",
    "                      \n",
    "print(time.time()-t0)"
   ]
  },
  {
   "cell_type": "code",
   "execution_count": 16,
   "metadata": {},
   "outputs": [],
   "source": [
    "kernel_train = np.load(\"kernel_train_univariant_ABC.npy\")"
   ]
  },
  {
   "cell_type": "code",
   "execution_count": 18,
   "metadata": {},
   "outputs": [],
   "source": [
    "kernel_test = np.load(\"kernel_test_univariant_ABC.npy\")"
   ]
  },
  {
   "cell_type": "code",
   "execution_count": 19,
   "metadata": {},
   "outputs": [
    {
     "name": "stdout",
     "output_type": "stream",
     "text": [
      "accuracy:  0.7629310344827587\n"
     ]
    }
   ],
   "source": [
    "c = 10\n",
    "gamma = 25\n",
    "kernel = np.exp(-kernel_train/gamma)\n",
    "testkernel = np.exp(-kernel_test/gamma)\n",
    "clf = svm.SVC(kernel='precomputed', C=c)\n",
    "clf.fit(kernel, Y)\n",
    "res = clf.predict(testkernel)\n",
    "print('accuracy: ', np.mean(res == Y_test))"
   ]
  },
  {
   "cell_type": "code",
   "execution_count": null,
   "metadata": {},
   "outputs": [],
   "source": []
  }
 ],
 "metadata": {
  "kernelspec": {
   "display_name": "Python 3",
   "language": "python",
   "name": "python3"
  },
  "language_info": {
   "codemirror_mode": {
    "name": "ipython",
    "version": 3
   },
   "file_extension": ".py",
   "mimetype": "text/x-python",
   "name": "python",
   "nbconvert_exporter": "python",
   "pygments_lexer": "ipython3",
   "version": "3.8.2"
  }
 },
 "nbformat": 4,
 "nbformat_minor": 4
}
